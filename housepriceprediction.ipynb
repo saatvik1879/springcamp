{
  "nbformat": 4,
  "nbformat_minor": 0,
  "metadata": {
    "colab": {
      "provenance": [],
      "authorship_tag": "ABX9TyMHTOsrnftUfMQYyTSr9yNH",
      "include_colab_link": true
    },
    "kernelspec": {
      "name": "python3",
      "display_name": "Python 3"
    },
    "language_info": {
      "name": "python"
    }
  },
  "cells": [
    {
      "cell_type": "markdown",
      "metadata": {
        "id": "view-in-github",
        "colab_type": "text"
      },
      "source": [
        "<a href=\"https://colab.research.google.com/github/saatvik1879/springcamp/blob/main/housepriceprediction.ipynb\" target=\"_parent\"><img src=\"https://colab.research.google.com/assets/colab-badge.svg\" alt=\"Open In Colab\"/></a>"
      ]
    },
    {
      "cell_type": "code",
      "execution_count": 1,
      "metadata": {
        "id": "CSdU88oofz-G"
      },
      "outputs": [],
      "source": [
        "import pandas as pd"
      ]
    },
    {
      "cell_type": "code",
      "source": [
        "dftest = pd.read_csv(\"/content/train.csv\")"
      ],
      "metadata": {
        "id": "LQatYq6LnbY7"
      },
      "execution_count": 3,
      "outputs": []
    },
    {
      "cell_type": "code",
      "source": [
        "X = dftest[[\"MSSubClass\",\"YearBuilt\",\"1stFlrSF\",\"2ndFlrSF\",\"TotalBsmtSF\",\"GarageArea\",\"BsmtFinSF1\",\"LowQualFinSF\",\"OpenPorchSF\",\"ScreenPorch\"]]\n",
        "y = dftest[\"SalePrice\"]"
      ],
      "metadata": {
        "id": "zRoPhg3X80wz"
      },
      "execution_count": 315,
      "outputs": []
    },
    {
      "cell_type": "code",
      "source": [
        "import sklearn\n",
        "from sklearn.model_selection import train_test_split\n",
        "from sklearn.neighbors import KNeighborsRegressor\n",
        "\n",
        "X = pd.get_dummies(X,dummy_na=False)\n",
        "\n",
        "X_train, X_test, y_train, y_test = train_test_split(\n",
        " X, y, test_size=0.2, random_state=42)\n",
        "\n",
        "neigh = KNeighborsRegressor(n_neighbors=4)\n",
        "neigh.fit(X_train,y_train)\n",
        "ypreds = neigh.predict(X_test)\n",
        "\n",
        "\n",
        "sklearn.metrics.mean_absolute_error(y_test,ypreds)"
      ],
      "metadata": {
        "colab": {
          "base_uri": "https://localhost:8080/"
        },
        "id": "j_fTHIE_DiTK",
        "outputId": "20cb7cf3-7107-4bab-f3ad-1bebe50b9149"
      },
      "execution_count": 329,
      "outputs": [
        {
          "output_type": "execute_result",
          "data": {
            "text/plain": [
              "23293.202910958906"
            ]
          },
          "metadata": {},
          "execution_count": 329
        }
      ]
    }
  ]
}