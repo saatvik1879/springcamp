{
  "nbformat": 4,
  "nbformat_minor": 0,
  "metadata": {
    "colab": {
      "provenance": [],
      "gpuType": "T4",
      "mount_file_id": "1EehE8eF8SYFrdbxqWwz1H_0ltdbzbsmo",
      "authorship_tag": "ABX9TyMsik4yWm/6tIGW3CFwytP2",
      "include_colab_link": true
    },
    "kernelspec": {
      "name": "python3",
      "display_name": "Python 3"
    },
    "language_info": {
      "name": "python"
    },
    "accelerator": "GPU"
  },
  "cells": [
    {
      "cell_type": "markdown",
      "metadata": {
        "id": "view-in-github",
        "colab_type": "text"
      },
      "source": [
        "<a href=\"https://colab.research.google.com/github/saatvik1879/springcamp/blob/main/autoencoder.ipynb\" target=\"_parent\"><img src=\"https://colab.research.google.com/assets/colab-badge.svg\" alt=\"Open In Colab\"/></a>"
      ]
    },
    {
      "cell_type": "code",
      "execution_count": 1,
      "metadata": {
        "id": "AQoO4HhnvvH7"
      },
      "outputs": [],
      "source": [
        "import numpy as np\n",
        "import pandas as pd\n",
        "import random\n",
        "import torch\n",
        "from PIL import Image,ImageChops,ImageTransform\n",
        "import torchvision.transforms.functional as transform\n",
        "from sklearn.utils import shuffle\n",
        "from pathlib import Path\n",
        "from torch import nn\n",
        "import matplotlib.pyplot as plt\n",
        "device='cuda' if torch.cuda.is_available() else 'cpu'"
      ]
    },
    {
      "cell_type": "code",
      "source": [
        "import torchvision.transforms as T"
      ],
      "metadata": {
        "id": "FEGOMUKkTczw"
      },
      "execution_count": 2,
      "outputs": []
    },
    {
      "cell_type": "code",
      "source": [
        "import os\n",
        "\n",
        "# Specify the folder path (replace 'your_folder_path' with the actual folder path)\n",
        "folder_path = '/content/drive/MyDrive/Chess/Rook'\n",
        "\n",
        "# Use os.listdir to get a list of all files in the folder\n",
        "all_files = os.listdir(folder_path)\n",
        "\n",
        "# Filter only image files based on file extensions\n",
        "image_extensions = ['.jpg', '.png', '.jpeg','.JPG','.gif']  # Add more extensions if needed\n",
        "image_paths = [os.path.join(folder_path, file) for file in all_files if any(file.endswith(ext) for ext in image_extensions)]\n",
        "\n",
        "# Display the list of image paths\n",
        "print(image_paths)\n"
      ],
      "metadata": {
        "colab": {
          "base_uri": "https://localhost:8080/"
        },
        "id": "_MVHHFxn2_ap",
        "outputId": "c75f69f9-9ecb-439c-fae9-e438c69df24e"
      },
      "execution_count": 47,
      "outputs": [
        {
          "output_type": "stream",
          "name": "stdout",
          "text": [
            "['/content/drive/MyDrive/Chess/Rook/00000033.jpg', '/content/drive/MyDrive/Chess/Rook/00000054.jpg', '/content/drive/MyDrive/Chess/Rook/00000097.jpg', '/content/drive/MyDrive/Chess/Rook/00000053.jpg', '/content/drive/MyDrive/Chess/Rook/00000003.JPG', '/content/drive/MyDrive/Chess/Rook/00000086.jpg', '/content/drive/MyDrive/Chess/Rook/00000189.jpg', '/content/drive/MyDrive/Chess/Rook/00000120.jpg', '/content/drive/MyDrive/Chess/Rook/00000015.jpg', '/content/drive/MyDrive/Chess/Rook/00000011.jpg', '/content/drive/MyDrive/Chess/Rook/00000031.jpg', '/content/drive/MyDrive/Chess/Rook/00000050.jpg', '/content/drive/MyDrive/Chess/Rook/00000185.jpg', '/content/drive/MyDrive/Chess/Rook/00000160.jpg', '/content/drive/MyDrive/Chess/Rook/00000005.jpg', '/content/drive/MyDrive/Chess/Rook/00000006.jpg', '/content/drive/MyDrive/Chess/Rook/00000004.jpg', '/content/drive/MyDrive/Chess/Rook/00000016.jpg', '/content/drive/MyDrive/Chess/Rook/00000114.jpg', '/content/drive/MyDrive/Chess/Rook/00000074.jpg', '/content/drive/MyDrive/Chess/Rook/00000064.png', '/content/drive/MyDrive/Chess/Rook/00000135.jpg', '/content/drive/MyDrive/Chess/Rook/00000014.jpg', '/content/drive/MyDrive/Chess/Rook/00000085.png', '/content/drive/MyDrive/Chess/Rook/00000063.jpg', '/content/drive/MyDrive/Chess/Rook/00000088.jpg', '/content/drive/MyDrive/Chess/Rook/00000019.jpg', '/content/drive/MyDrive/Chess/Rook/00000010.jpg', '/content/drive/MyDrive/Chess/Rook/00000124.png', '/content/drive/MyDrive/Chess/Rook/00000083.jpg', '/content/drive/MyDrive/Chess/Rook/00000026.png', '/content/drive/MyDrive/Chess/Rook/00000118.jpg', '/content/drive/MyDrive/Chess/Rook/00000035.jpg', '/content/drive/MyDrive/Chess/Rook/00000131.jpg', '/content/drive/MyDrive/Chess/Rook/00000112.jpg', '/content/drive/MyDrive/Chess/Rook/00000027.jpg', '/content/drive/MyDrive/Chess/Rook/00000117.jpg', '/content/drive/MyDrive/Chess/Rook/00000025.jpeg', '/content/drive/MyDrive/Chess/Rook/00000101.jpg', '/content/drive/MyDrive/Chess/Rook/00000071.jpg', '/content/drive/MyDrive/Chess/Rook/00000058.jpg', '/content/drive/MyDrive/Chess/Rook/00000102.jpg', '/content/drive/MyDrive/Chess/Rook/00000177.JPG', '/content/drive/MyDrive/Chess/Rook/00000147.jpg', '/content/drive/MyDrive/Chess/Rook/00000056.png', '/content/drive/MyDrive/Chess/Rook/00000021.jpg', '/content/drive/MyDrive/Chess/Rook/00000121.jpg', '/content/drive/MyDrive/Chess/Rook/00000164.jpg', '/content/drive/MyDrive/Chess/Rook/00000125.jpg', '/content/drive/MyDrive/Chess/Rook/00000180.jpg', '/content/drive/MyDrive/Chess/Rook/00000197.jpg', '/content/drive/MyDrive/Chess/Rook/00000020.jpg', '/content/drive/MyDrive/Chess/Rook/00000095.jpg', '/content/drive/MyDrive/Chess/Rook/00000163.jpg', '/content/drive/MyDrive/Chess/Rook/00000142.jpg', '/content/drive/MyDrive/Chess/Rook/00000136.jpg', '/content/drive/MyDrive/Chess/Rook/00000028.jpg', '/content/drive/MyDrive/Chess/Rook/00000171.jpg', '/content/drive/MyDrive/Chess/Rook/00000022.jpg', '/content/drive/MyDrive/Chess/Rook/00000008.jpg', '/content/drive/MyDrive/Chess/Rook/00000132.jpg', '/content/drive/MyDrive/Chess/Rook/00000034.jpg', '/content/drive/MyDrive/Chess/Rook/00000017.jpg', '/content/drive/MyDrive/Chess/Rook/00000077.jpg', '/content/drive/MyDrive/Chess/Rook/00000045.jpg', '/content/drive/MyDrive/Chess/Rook/00000099.jpg', '/content/drive/MyDrive/Chess/Rook/00000130.jpeg', '/content/drive/MyDrive/Chess/Rook/00000127.jpg', '/content/drive/MyDrive/Chess/Rook/00000024.jpg', '/content/drive/MyDrive/Chess/Rook/00000082.jpg', '/content/drive/MyDrive/Chess/Rook/00000103.png', '/content/drive/MyDrive/Chess/Rook/00000018.jpg', '/content/drive/MyDrive/Chess/Rook/00000051.jpg', '/content/drive/MyDrive/Chess/Rook/00000116.jpg', '/content/drive/MyDrive/Chess/Rook/00000002.JPG', '/content/drive/MyDrive/Chess/Rook/00000044.jpg', '/content/drive/MyDrive/Chess/Rook/00000119.jpg', '/content/drive/MyDrive/Chess/Rook/00000079.jpg', '/content/drive/MyDrive/Chess/Rook/00000159.jpg', '/content/drive/MyDrive/Chess/Rook/00000098.png', '/content/drive/MyDrive/Chess/Rook/00000075.jpg', '/content/drive/MyDrive/Chess/Rook/00000195.jpg', '/content/drive/MyDrive/Chess/Rook/00000038.jpg', '/content/drive/MyDrive/Chess/Rook/00000072.jpg', '/content/drive/MyDrive/Chess/Rook/00000049.jpg', '/content/drive/MyDrive/Chess/Rook/00000184.jpg', '/content/drive/MyDrive/Chess/Rook/00000107.jpg', '/content/drive/MyDrive/Chess/Rook/00000179.png', '/content/drive/MyDrive/Chess/Rook/00000076.jpg', '/content/drive/MyDrive/Chess/Rook/00000065.jpg', '/content/drive/MyDrive/Chess/Rook/00000059.jpg', '/content/drive/MyDrive/Chess/Rook/00000046.jpg', '/content/drive/MyDrive/Chess/Rook/00000066.png', '/content/drive/MyDrive/Chess/Rook/00000007.jpg', '/content/drive/MyDrive/Chess/Rook/00000061.jpg', '/content/drive/MyDrive/Chess/Rook/00000032.jpg', '/content/drive/MyDrive/Chess/Rook/00000084.png', '/content/drive/MyDrive/Chess/Rook/00000168.jpg', '/content/drive/MyDrive/Chess/Rook/00000073.jpg', '/content/drive/MyDrive/Chess/Rook/00000165.jpg', '/content/drive/MyDrive/Chess/Rook/00000145.jpg', '/content/drive/MyDrive/Chess/Rook/00000113.jpg']\n"
          ]
        }
      ]
    },
    {
      "cell_type": "code",
      "source": [
        "def read_image(path)->torch.Tensor:\n",
        "  pil_image=Image.open(path)\n",
        "  pil_image = pil_image.convert(\"L\")\n",
        "  pil_image = pil_image.resize((28, 28))\n",
        "  torch_tensor=transform.to_tensor(pil_image)\n",
        "  torch_tensor = torch.unsqueeze(torch_tensor,0)\n",
        "  return torch_tensor"
      ],
      "metadata": {
        "id": "rWSzWw_nI3RH"
      },
      "execution_count": 29,
      "outputs": []
    },
    {
      "cell_type": "code",
      "source": [
        "# final_tensor = read_image(image_paths[0])\n",
        "# for i in image_paths[1:]:\n",
        "#   imge = read_image(i)\n",
        "#   final_tensor = torch.cat((final_tensor,imge))\n",
        "# final_tensor.shape"
      ],
      "metadata": {
        "colab": {
          "base_uri": "https://localhost:8080/"
        },
        "id": "fAiu4F_NG9hT",
        "outputId": "09122063-078f-4a93-c7e6-c226abc4a541"
      },
      "execution_count": 38,
      "outputs": [
        {
          "output_type": "execute_result",
          "data": {
            "text/plain": [
              "torch.Size([87, 1, 28, 28])"
            ]
          },
          "metadata": {},
          "execution_count": 38
        }
      ]
    },
    {
      "cell_type": "code",
      "source": [
        "for i in image_paths:\n",
        "  imge = read_image(i)\n",
        "  final_tensor = torch.cat((final_tensor,imge))\n",
        "final_tensor.shape"
      ],
      "metadata": {
        "colab": {
          "base_uri": "https://localhost:8080/"
        },
        "id": "SfIuI1RJMPlX",
        "outputId": "6cc17c31-9060-4ad4-cec3-b1739d8b20e9"
      },
      "execution_count": 48,
      "outputs": [
        {
          "output_type": "execute_result",
          "data": {
            "text/plain": [
              "torch.Size([552, 1, 28, 28])"
            ]
          },
          "metadata": {},
          "execution_count": 48
        }
      ]
    },
    {
      "cell_type": "code",
      "source": [
        "torch.save(final_tensor,'/content/train2.pth')"
      ],
      "metadata": {
        "id": "fbIySy8XOBi2"
      },
      "execution_count": 50,
      "outputs": []
    },
    {
      "cell_type": "code",
      "source": [
        "training_tensor = torch.load('/content/train2.pth')"
      ],
      "metadata": {
        "id": "uj88CjrcO5W8"
      },
      "execution_count": 51,
      "outputs": []
    },
    {
      "cell_type": "code",
      "source": [
        "training_tensor.shape"
      ],
      "metadata": {
        "colab": {
          "base_uri": "https://localhost:8080/"
        },
        "id": "dWVg1imBPFjs",
        "outputId": "c05383c6-5348-444e-d54e-c7c37aff321b"
      },
      "execution_count": 52,
      "outputs": [
        {
          "output_type": "execute_result",
          "data": {
            "text/plain": [
              "torch.Size([552, 1, 28, 28])"
            ]
          },
          "metadata": {},
          "execution_count": 52
        }
      ]
    },
    {
      "cell_type": "code",
      "source": [
        "class auto_encoder(nn.Module):\n",
        "  def __init__(self):\n",
        "    super().__init__()\n",
        "    self.encoder = nn.Sequential(\n",
        "            torch.nn.Linear(28 * 28, 128),\n",
        "            torch.nn.ReLU(),\n",
        "            torch.nn.Linear(128, 64),\n",
        "            torch.nn.ReLU(),\n",
        "            torch.nn.Linear(64, 36),\n",
        "            torch.nn.ReLU(),\n",
        "            torch.nn.Linear(36, 18),\n",
        "            torch.nn.ReLU(),\n",
        "            torch.nn.Linear(18, 9)\n",
        "            )\n",
        "    self.decoder = torch.nn.Sequential(\n",
        "            torch.nn.Linear(9, 18),\n",
        "            torch.nn.ReLU(),\n",
        "            torch.nn.Linear(18, 36),\n",
        "            torch.nn.ReLU(),\n",
        "            torch.nn.Linear(36, 64),\n",
        "            torch.nn.ReLU(),\n",
        "            torch.nn.Linear(64, 128),\n",
        "            torch.nn.ReLU(),\n",
        "            torch.nn.Linear(128, 28 * 28),\n",
        "            torch.nn.Sigmoid()\n",
        "        )\n",
        "  def forward(self, x):\n",
        "        encoded = self.encoder(x)\n",
        "        decoded = self.decoder(encoded)\n",
        "        return decoded"
      ],
      "metadata": {
        "id": "Zw7nj_5DPXxi"
      },
      "execution_count": 53,
      "outputs": []
    },
    {
      "cell_type": "code",
      "source": [
        "torch.manual_seed(42)\n",
        "model0 = auto_encoder().to(device)\n",
        "\n",
        "training_tensor = training_tensor.to(device)"
      ],
      "metadata": {
        "id": "uI8-onbMSMO_"
      },
      "execution_count": 104,
      "outputs": []
    },
    {
      "cell_type": "code",
      "source": [
        "lossfn = nn.MSELoss()\n",
        "optimizer = torch.optim.SGD(params=model0.parameters(),lr = 0.3)\n"
      ],
      "metadata": {
        "id": "oL-ljbi3UWvQ"
      },
      "execution_count": 110,
      "outputs": []
    },
    {
      "cell_type": "code",
      "source": [
        "training_tensor = training_tensor.reshape((-1,28*28))"
      ],
      "metadata": {
        "id": "smRnb5hY64Qw"
      },
      "execution_count": 106,
      "outputs": []
    },
    {
      "cell_type": "code",
      "source": [
        "losslst = []"
      ],
      "metadata": {
        "id": "EaukRuAc_DbC"
      },
      "execution_count": 117,
      "outputs": []
    },
    {
      "cell_type": "code",
      "source": [
        "epochs=1000\n",
        "\n",
        "for epoch in range(epochs):\n",
        "    model0.train()\n",
        "    loss=lossfn(model0(training_tensor),training_tensor)\n",
        "    optimizer.zero_grad()\n",
        "    loss.backward()\n",
        "    optimizer.step()\n",
        "    model0.eval()\n",
        "    if epoch%10 == 9:\n",
        "      losslst.append(loss.cpu().detach().numpy())"
      ],
      "metadata": {
        "id": "gJScJvyW6WD3"
      },
      "execution_count": 118,
      "outputs": []
    },
    {
      "cell_type": "code",
      "source": [
        "plt.plot(losslst)"
      ],
      "metadata": {
        "colab": {
          "base_uri": "https://localhost:8080/",
          "height": 448
        },
        "id": "htGS3AD8-nwN",
        "outputId": "3b19088f-1e7f-4584-906b-78249d4b3c94"
      },
      "execution_count": 119,
      "outputs": [
        {
          "output_type": "execute_result",
          "data": {
            "text/plain": [
              "[<matplotlib.lines.Line2D at 0x7bc9d3334760>]"
            ]
          },
          "metadata": {},
          "execution_count": 119
        },
        {
          "output_type": "display_data",
          "data": {
            "text/plain": [
              "<Figure size 640x480 with 1 Axes>"
            ],
            "image/png": "[encoded data removed]"
          },
          "metadata": {}
        }
      ]
    },
    {
      "cell_type": "code",
      "source": [
        "with torch.inference_mode():\n",
        "  ypred = model0(training_tensor)\n",
        "ypred = ypred.cpu().detach().numpy()\n",
        "x = training_tensor.cpu().detach().numpy()\n",
        "x = x.reshape(-1, 28, 28)\n",
        "plt.imshow(x[0])\n"
      ],
      "metadata": {
        "colab": {
          "base_uri": "https://localhost:8080/",
          "height": 448
        },
        "id": "8E8RzRoC_Q15",
        "outputId": "4ef4c55b-3ced-4f9c-8970-87876f45e4f3"
      },
      "execution_count": 120,
      "outputs": [
        {
          "output_type": "execute_result",
          "data": {
            "text/plain": [
              "<matplotlib.image.AxesImage at 0x7bc9d337c250>"
            ]
          },
          "metadata": {},
          "execution_count": 120
        },
        {
          "output_type": "display_data",
          "data": {
            "text/plain": [
              "<Figure size 640x480 with 1 Axes>"
            ],
            "image/png": "[encoded data removed]"
          },
          "metadata": {}
        }
      ]
    },
    {
      "cell_type": "code",
      "source": [
        "ypred = ypred.reshape(-1, 28, 28)\n",
        "plt.imshow(ypred[0])"
      ],
      "metadata": {
        "colab": {
          "base_uri": "https://localhost:8080/",
          "height": 448
        },
        "id": "5ZB8zqc3BdAt",
        "outputId": "0f4a7ab2-6a9b-4fb1-f48b-d1170c39f0e0"
      },
      "execution_count": 126,
      "outputs": [
        {
          "output_type": "execute_result",
          "data": {
            "text/plain": [
              "<matplotlib.image.AxesImage at 0x7bc9d302c670>"
            ]
          },
          "metadata": {},
          "execution_count": 126
        },
        {
          "output_type": "display_data",
          "data": {
            "text/plain": [
              "<Figure size 640x480 with 1 Axes>"
            ],
            "image/png": "[encoded data removed]"
          },
          "metadata": {}
        }
      ]
    }
  ]
}